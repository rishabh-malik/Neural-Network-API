{
 "cells": [
  {
   "cell_type": "code",
   "execution_count": 1,
   "metadata": {},
   "outputs": [
    {
     "name": "stderr",
     "output_type": "stream",
     "text": [
      "Using TensorFlow backend.\n"
     ]
    }
   ],
   "source": [
    "import flask\n",
    "import numpy as np\n",
    "import tensorflow as tf\n",
    "from keras.models import load_model"
   ]
  },
  {
   "cell_type": "code",
   "execution_count": 2,
   "metadata": {
    "collapsed": true
   },
   "outputs": [],
   "source": [
    "# initialize our Flask application and the Keras model\n",
    "app = flask.Flask(__name__)\n",
    "def init():\n",
    "    global model,graph\n",
    "    # load the pre-trained Keras model\n",
    "    model = load_model('gotCharactersDeathPredictions.h5')\n",
    "    graph = tf.get_default_graph()"
   ]
  },
  {
   "cell_type": "code",
   "execution_count": 3,
   "metadata": {
    "collapsed": true
   },
   "outputs": [],
   "source": [
    "# Getting Parameters\n",
    "def getParameters():\n",
    "    parameters = []\n",
    "    parameters.append(flask.request.args.get('male'))\n",
    "    parameters.append(flask.request.args.get('book1'))\n",
    "    parameters.append(flask.request.args.get('book2'))\n",
    "    parameters.append(flask.request.args.get('book3'))\n",
    "    parameters.append(flask.request.args.get('book4'))\n",
    "    parameters.append(flask.request.args.get('book5'))\n",
    "    parameters.append(flask.request.args.get('isMarried'))\n",
    "    parameters.append(flask.request.args.get('isNoble'))\n",
    "    parameters.append(flask.request.args.get('numDeadRelations'))\n",
    "    parameters.append(flask.request.args.get('boolDeadRelations'))\n",
    "    parameters.append(flask.request.args.get('isPopular'))\n",
    "    parameters.append(flask.request.args.get('popularity'))\n",
    "    return parameters"
   ]
  },
  {
   "cell_type": "code",
   "execution_count": 4,
   "metadata": {
    "collapsed": true
   },
   "outputs": [],
   "source": [
    "# Cross origin support\n",
    "def sendResponse(responseObj):\n",
    "    response = flask.jsonify(responseObj)\n",
    "    response.headers.add('Access-Control-Allow-Origin', '*')\n",
    "    response.headers.add('Access-Control-Allow-Methods', 'GET')\n",
    "    response.headers.add('Access-Control-Allow-Headers', 'accept,content-type,Origin,X-Requested-With,Content-Type,access_token,Accept,Authorization,source')\n",
    "    response.headers.add('Access-Control-Allow-Credentials', True)\n",
    "    return response"
   ]
  },
  {
   "cell_type": "code",
   "execution_count": 5,
   "metadata": {
    "collapsed": true
   },
   "outputs": [],
   "source": [
    "# API for prediction\n",
    "@app.route(\"/predict\", methods=[\"GET\"])\n",
    "def predict():\n",
    "    nameOfTheCharacter = flask.request.args.get('name')\n",
    "    parameters = getParameters()\n",
    "    inputFeature = np.asarray(parameters).reshape(1, 12)\n",
    "    with graph.as_default():\n",
    "        raw_prediction = model.predict(inputFeature)[0][0]\n",
    "    if raw_prediction > 0.5:\n",
    "        prediction = 'Alive'\n",
    "    else:\n",
    "        prediction = 'Dead'\n",
    "    return sendResponse({nameOfTheCharacter: prediction})"
   ]
  },
  {
   "cell_type": "code",
   "execution_count": 6,
   "metadata": {},
   "outputs": [
    {
     "name": "stdout",
     "output_type": "stream",
     "text": [
      "* Loading Keras model and Flask starting server...please wait until server has fully started\n"
     ]
    },
    {
     "name": "stderr",
     "output_type": "stream",
     "text": [
      " * Running on http://127.0.0.1:5000/ (Press CTRL+C to quit)\n",
      "127.0.0.1 - - [17/Jul/2018 16:06:24] \"\u001b[33mGET / HTTP/1.1\u001b[0m\" 404 -\n",
      "127.0.0.1 - - [17/Jul/2018 16:06:24] \"\u001b[33mGET /favicon.ico HTTP/1.1\u001b[0m\" 404 -\n",
      "127.0.0.1 - - [17/Jul/2018 16:06:39] \"\u001b[37mGET /predict?name=Viserys%20II%20Targaryen&male=1&book1=0&book2=0&book3=0&book4=0&book5=0&isMarried=0&isNoble=0&numDeadRelations=11&boolDeadRelations=1&isPopular=1&popularity=0.605351170568561 HTTP/1.1\u001b[0m\" 200 -\n",
      "127.0.0.1 - - [17/Jul/2018 16:06:40] \"\u001b[33mGET /favicon.ico HTTP/1.1\u001b[0m\" 404 -\n"
     ]
    }
   ],
   "source": [
    "# if this is the main thread of execution first load the model and then start the server\n",
    "if __name__ == \"__main__\":\n",
    "    print((\"* Loading Keras model and Flask starting server...\"\n",
    "\"please wait until server has fully started\"))\n",
    "    init()\n",
    "    app.run(threaded=True)"
   ]
  },
  {
   "cell_type": "markdown",
   "metadata": {},
   "source": [
    "Go to this URL for testing"
   ]
  },
  {
   "cell_type": "markdown",
   "metadata": {},
   "source": [
    "http://localhost:5000/predict?name=Viserys II Targaryen&male=1&book1=0&book2=0&book3=0&book4=0&book5=0&isMarried=0&isNoble=0&numDeadRelations=11&boolDeadRelations=1&isPopular=1&popularity=0.605351170568561"
   ]
  }
 ],
 "metadata": {
  "kernelspec": {
   "display_name": "Python 3",
   "language": "python",
   "name": "python3"
  },
  "language_info": {
   "codemirror_mode": {
    "name": "ipython",
    "version": 3
   },
   "file_extension": ".py",
   "mimetype": "text/x-python",
   "name": "python",
   "nbconvert_exporter": "python",
   "pygments_lexer": "ipython3",
   "version": "3.6.3"
  }
 },
 "nbformat": 4,
 "nbformat_minor": 2
}
